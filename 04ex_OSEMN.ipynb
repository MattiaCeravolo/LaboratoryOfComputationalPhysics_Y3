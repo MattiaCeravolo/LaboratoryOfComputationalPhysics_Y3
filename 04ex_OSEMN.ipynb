{
 "cells": [
  {
   "cell_type": "markdown",
   "metadata": {},
   "source": [
    "# OSEMN Exercises"
   ]
  },
  {
   "cell_type": "code",
   "execution_count": 1,
   "metadata": {},
   "outputs": [],
   "source": [
    "%matplotlib inline\n",
    "import pandas as pd\n",
    "import numpy as np"
   ]
  },
  {
   "cell_type": "markdown",
   "metadata": {},
   "source": [
    "1\\. Create a random list of number and then save it to a text file named \"simple_data.txt\""
   ]
  },
  {
   "cell_type": "code",
   "execution_count": 2,
   "metadata": {},
   "outputs": [],
   "source": [
    "randomlist = np.random.random(10)"
   ]
  },
  {
   "cell_type": "code",
   "execution_count": 3,
   "metadata": {},
   "outputs": [],
   "source": [
    "f = open(\"simple_data.txt\", \"w\")\n",
    "for i in randomlist:\n",
    "    f.write(str(i)+\"\\n\")\n",
    "f.close()"
   ]
  },
  {
   "cell_type": "code",
   "execution_count": 4,
   "metadata": {},
   "outputs": [
    {
     "name": "stdout",
     "output_type": "stream",
     "text": [
      "0.9620181016623995\r\n",
      "0.334060400243426\r\n",
      "0.5543958533940389\r\n",
      "0.5054500353515561\r\n",
      "0.38752692197711625\r\n",
      "0.5371218411003624\r\n",
      "0.12843443205519922\r\n",
      "0.534116258504121\r\n",
      "0.8417126327150241\r\n",
      "0.8070592523742098\r\n"
     ]
    }
   ],
   "source": [
    "!cat simple_data.txt\n",
    "!rm simple_data.txt"
   ]
  },
  {
   "cell_type": "code",
   "execution_count": 5,
   "metadata": {},
   "outputs": [],
   "source": [
    "np.savetxt(\"simple_data.txt\",randomlist)"
   ]
  },
  {
   "cell_type": "code",
   "execution_count": 6,
   "metadata": {},
   "outputs": [
    {
     "name": "stdout",
     "output_type": "stream",
     "text": [
      "9.620181016623995385e-01\r\n",
      "3.340604002434259812e-01\r\n",
      "5.543958533940388511e-01\r\n",
      "5.054500353515560818e-01\r\n",
      "3.875269219771162454e-01\r\n",
      "5.371218411003624293e-01\r\n",
      "1.284344320551992213e-01\r\n",
      "5.341162585041210331e-01\r\n",
      "8.417126327150240561e-01\r\n",
      "8.070592523742098345e-01\r\n"
     ]
    }
   ],
   "source": [
    "!cat simple_data.txt\n",
    "!rm simple_data.txt"
   ]
  },
  {
   "cell_type": "markdown",
   "metadata": {},
   "source": [
    "2\\. Create a random matrix of 5x5 and then save it to a text file named \"data.txt\""
   ]
  },
  {
   "cell_type": "code",
   "execution_count": 7,
   "metadata": {},
   "outputs": [],
   "source": [
    "randommatrix = np.random.random((5,5))\n",
    "np.savetxt(\"data.txt\",randommatrix)"
   ]
  },
  {
   "cell_type": "code",
   "execution_count": 8,
   "metadata": {},
   "outputs": [
    {
     "name": "stdout",
     "output_type": "stream",
     "text": [
      "2.570575631657117111e-01 1.704359386732762216e-01 4.872460546043377860e-01 1.642744825306454715e-01 1.262795462836467930e-01\r\n",
      "2.000697442389487435e-01 1.356027890527214952e-01 8.661056229159606046e-01 4.684568925570198328e-02 4.417287250535937293e-01\r\n",
      "7.769105301691895393e-01 8.837053734014550521e-01 2.331323388410777575e-02 9.894974167498484796e-01 2.911701970030445841e-01\r\n",
      "6.412398221040018775e-01 3.968289955368382582e-01 1.038757357295467809e-01 8.262664932454300004e-02 2.319836596882640656e-01\r\n",
      "4.438607100673760408e-01 9.048524074072902268e-01 1.895503551792622199e-01 5.303563903430958959e-01 9.059601697028534240e-01\r\n"
     ]
    }
   ],
   "source": [
    "!cat data.txt"
   ]
  },
  {
   "cell_type": "markdown",
   "metadata": {},
   "source": [
    "3\\. Load the saved txt file of point 2 and convert it to a csv file (by hand)"
   ]
  },
  {
   "cell_type": "code",
   "execution_count": 9,
   "metadata": {},
   "outputs": [
    {
     "name": "stdout",
     "output_type": "stream",
     "text": [
      "[[0.25705756 0.17043594 0.48724605 0.16427448 0.12627955]\n",
      " [0.20006974 0.13560279 0.86610562 0.04684569 0.44172873]\n",
      " [0.77691053 0.88370537 0.02331323 0.98949742 0.2911702 ]\n",
      " [0.64123982 0.396829   0.10387574 0.08262665 0.23198366]\n",
      " [0.44386071 0.90485241 0.18955036 0.53035639 0.90596017]]\n"
     ]
    }
   ],
   "source": [
    "randommatrix = []\n",
    "\n",
    "shape1 = 0\n",
    "shape2 = 0\n",
    "with open(\"data.txt\", \"r\") as f:\n",
    "    for line in f:\n",
    "        shape1 += 1\n",
    "        for data in line.split():\n",
    "            if shape1 == 1:\n",
    "                shape2 += 1\n",
    "            randommatrix.append(float(data))\n",
    "\n",
    "randommatrix = np.array(randommatrix)\n",
    "randommatrix.resize((shape1,shape2))\n",
    "\n",
    "print(randommatrix)"
   ]
  },
  {
   "cell_type": "code",
   "execution_count": 10,
   "metadata": {},
   "outputs": [
    {
     "name": "stdout",
     "output_type": "stream",
     "text": [
      "[[0.25705756 0.17043594 0.48724605 0.16427448 0.12627955]\n",
      " [0.20006974 0.13560279 0.86610562 0.04684569 0.44172873]\n",
      " [0.77691053 0.88370537 0.02331323 0.98949742 0.2911702 ]\n",
      " [0.64123982 0.396829   0.10387574 0.08262665 0.23198366]\n",
      " [0.44386071 0.90485241 0.18955036 0.53035639 0.90596017]]\n"
     ]
    }
   ],
   "source": [
    "randommatrix = np.loadtxt(\"data.txt\")\n",
    "print(randommatrix)"
   ]
  },
  {
   "cell_type": "code",
   "execution_count": 11,
   "metadata": {},
   "outputs": [],
   "source": [
    "f = open(\"data.csv\", \"w\")\n",
    "\n",
    "for i in randommatrix:\n",
    "    n = 1\n",
    "    for a in i:\n",
    "        if n != i.shape[0]:\n",
    "            f.write(str(a)+\",\")\n",
    "        else:\n",
    "            f.write(str(a))\n",
    "        n += 1\n",
    "            \n",
    "    f.write(\"\\n\")\n",
    "f.close()"
   ]
  },
  {
   "cell_type": "code",
   "execution_count": 12,
   "metadata": {},
   "outputs": [
    {
     "name": "stdout",
     "output_type": "stream",
     "text": [
      "0.2570575631657117,0.17043593867327622,0.4872460546043378,0.16427448253064547,0.1262795462836468\r\n",
      "0.20006974423894874,0.1356027890527215,0.8661056229159606,0.04684568925570198,0.44172872505359373\r\n",
      "0.7769105301691895,0.883705373401455,0.023313233884107776,0.9894974167498485,0.2911701970030446\r\n",
      "0.6412398221040019,0.39682899553683826,0.10387573572954678,0.082626649324543,0.23198365968826407\r\n",
      "0.44386071006737604,0.9048524074072902,0.18955035517926222,0.5303563903430959,0.9059601697028534\r\n"
     ]
    }
   ],
   "source": [
    "!cat data.csv\n",
    "!rm data.csv"
   ]
  },
  {
   "cell_type": "code",
   "execution_count": 13,
   "metadata": {},
   "outputs": [],
   "source": [
    "np.savetxt(\"data.csv\", randommatrix, delimiter=\",\")"
   ]
  },
  {
   "cell_type": "code",
   "execution_count": 14,
   "metadata": {},
   "outputs": [
    {
     "name": "stdout",
     "output_type": "stream",
     "text": [
      "2.570575631657117111e-01,1.704359386732762216e-01,4.872460546043377860e-01,1.642744825306454715e-01,1.262795462836467930e-01\r\n",
      "2.000697442389487435e-01,1.356027890527214952e-01,8.661056229159606046e-01,4.684568925570198328e-02,4.417287250535937293e-01\r\n",
      "7.769105301691895393e-01,8.837053734014550521e-01,2.331323388410777575e-02,9.894974167498484796e-01,2.911701970030445841e-01\r\n",
      "6.412398221040018775e-01,3.968289955368382582e-01,1.038757357295467809e-01,8.262664932454300004e-02,2.319836596882640656e-01\r\n",
      "4.438607100673760408e-01,9.048524074072902268e-01,1.895503551792622199e-01,5.303563903430958959e-01,9.059601697028534240e-01\r\n"
     ]
    }
   ],
   "source": [
    "!cat data.csv\n",
    "!rm data.csv\n",
    "!rm data.txt"
   ]
  },
  {
   "cell_type": "markdown",
   "metadata": {},
   "source": [
    "4\\. load the binary file named *credit_card.dat* and convert the data into the real credit-card number.\n",
    "Each line correspond to a credit card number.\n",
    "Each character is composed by 6 bit (even the space) and the last 4 bit are just a padding\n",
    "\n",
    "**hint**: use the `chr()` function to convert a number to a char"
   ]
  },
  {
   "cell_type": "code",
   "execution_count": 15,
   "metadata": {},
   "outputs": [],
   "source": [
    "f = open(\"credit_card.dat\")\n",
    "data = f.read()\n",
    "\n",
    "binarydata=[]\n",
    "\n",
    "lines = data.split()\n",
    "shape1 = len(lines)-1\n",
    "shape2 = len(lines[0])-4\n",
    "for a in range(0,len(lines) - 1):\n",
    "    characters = lines[a]\n",
    "    for i in range(len(characters) - 4):\n",
    "        binarydata.append(characters[i])\n",
    "      \n",
    "\n",
    "binarydata=np.array(binarydata).reshape(shape1,int(shape2/6),6)\n",
    "\n"
   ]
  },
  {
   "cell_type": "code",
   "execution_count": 16,
   "metadata": {},
   "outputs": [],
   "source": [
    "def convert(asd):\n",
    "    b = \"\"\n",
    "    for asd2 in asd:\n",
    "        a = \"\"\n",
    "        for i in asd2:\n",
    "            a = a + i \n",
    "        b = b + chr(int(a,2))\n",
    "    return b"
   ]
  },
  {
   "cell_type": "code",
   "execution_count": 17,
   "metadata": {},
   "outputs": [],
   "source": [
    "credit_card = np.array([convert(i) for i in binarydata])"
   ]
  },
  {
   "cell_type": "code",
   "execution_count": 18,
   "metadata": {},
   "outputs": [
    {
     "name": "stdout",
     "output_type": "stream",
     "text": [
      "['7648 5673 3775 2271' '3257 8247 3354 2266' '2722 0001 4011 6652'\n",
      " '0661 3063 3742 3150' '0432 1608 1462 4742' '5827 2027 8785 7303'\n",
      " '5774 8528 2087 1117' '8140 1210 6352 2845' '5764 1133 7301 7100'\n",
      " '6456 1737 4126 6726' '1228 8631 7382 0000' '7051 0160 5374 3166'\n",
      " '0618 3587 1630 6376' '1545 5454 7444 5636' '6735 3116 3202 6834'\n",
      " '7287 5011 1547 8413' '7033 2607 3328 4200' '2568 5244 1874 5024'\n",
      " '1684 2253 7570 7118' '0672 2576 0575 6631' '6332 8353 8787 1340'\n",
      " '1813 3361 1175 4211' '2477 6450 8840 2368' '5512 3505 2563 1326'\n",
      " '3083 7882 0621 0025' '4521 5148 8045 0334' '7563 3654 8713 5787'\n",
      " '8324 2664 0476 5561' '0565 2504 7168 3510' '5107 5507 1767 0738'\n",
      " '2462 1821 2448 1443' '2788 0638 6861 6554' '5851 5873 5474 0547'\n",
      " '0670 1004 4013 2655' '5874 5506 3048 0806' '2805 5401 8462 1260'\n",
      " '5083 8406 6310 1862' '1076 1445 3013 2266' '8440 4804 4844 5277'\n",
      " '4758 6141 0686 1387' '7586 0675 0315 2568' '2544 1258 7432 5165'\n",
      " '3474 5023 4434 5626' '1410 0270 0434 5086' '7315 4446 1104 4215'\n",
      " '0224 7742 8300 0266' '0170 2700 3145 0640' '2006 2437 8054 1600'\n",
      " '8142 4055 1776 0026' '3026 7380 1241 1084']\n"
     ]
    }
   ],
   "source": [
    "print(credit_card)"
   ]
  },
  {
   "cell_type": "markdown",
   "metadata": {},
   "source": [
    "5\\. Load the file \"user_data.json\", filter the data by the \"CreditCardType\" field equals to \"American Express\". Than save the data a to CSV."
   ]
  },
  {
   "cell_type": "code",
   "execution_count": 21,
   "metadata": {},
   "outputs": [
    {
     "name": "stdout",
     "output_type": "stream",
     "text": [
      "00ex_introduction.ipynb         07.1ex_Algorithms.ipynb\r\n",
      "01ex_Fundamentals.ipynb         README.md\r\n",
      "02ex_NumberRepresentation.ipynb Untitled1.ipynb\r\n",
      "03ex_Numpy.ipynb                cities.txt\r\n",
      "04ex_OSEMN.ipynb                credit_card.dat\r\n",
      "05ex_Pandas.ipynb               populations.txt\r\n",
      "06ex_Visualization.ipynb\r\n"
     ]
    }
   ],
   "source": [
    "!ls"
   ]
  },
  {
   "cell_type": "code",
   "execution_count": 19,
   "metadata": {},
   "outputs": [
    {
     "ename": "ValueError",
     "evalue": "Expected object or value",
     "output_type": "error",
     "traceback": [
      "\u001b[0;31m---------------------------------------------------------------------------\u001b[0m",
      "\u001b[0;31mValueError\u001b[0m                                Traceback (most recent call last)",
      "\u001b[0;32m<ipython-input-19-2b995444dae7>\u001b[0m in \u001b[0;36m<module>\u001b[0;34m\u001b[0m\n\u001b[0;32m----> 1\u001b[0;31m \u001b[0mdata\u001b[0m \u001b[0;34m=\u001b[0m \u001b[0mpd\u001b[0m\u001b[0;34m.\u001b[0m\u001b[0mread_json\u001b[0m\u001b[0;34m(\u001b[0m\u001b[0;34mr'user_data.json'\u001b[0m\u001b[0;34m)\u001b[0m\u001b[0;34m\u001b[0m\u001b[0;34m\u001b[0m\u001b[0m\n\u001b[0m",
      "\u001b[0;32m~/anaconda3/lib/python3.7/site-packages/pandas/io/json/json.py\u001b[0m in \u001b[0;36mread_json\u001b[0;34m(path_or_buf, orient, typ, dtype, convert_axes, convert_dates, keep_default_dates, numpy, precise_float, date_unit, encoding, lines, chunksize, compression)\u001b[0m\n\u001b[1;32m    425\u001b[0m         \u001b[0;32mreturn\u001b[0m \u001b[0mjson_reader\u001b[0m\u001b[0;34m\u001b[0m\u001b[0;34m\u001b[0m\u001b[0m\n\u001b[1;32m    426\u001b[0m \u001b[0;34m\u001b[0m\u001b[0m\n\u001b[0;32m--> 427\u001b[0;31m     \u001b[0mresult\u001b[0m \u001b[0;34m=\u001b[0m \u001b[0mjson_reader\u001b[0m\u001b[0;34m.\u001b[0m\u001b[0mread\u001b[0m\u001b[0;34m(\u001b[0m\u001b[0;34m)\u001b[0m\u001b[0;34m\u001b[0m\u001b[0;34m\u001b[0m\u001b[0m\n\u001b[0m\u001b[1;32m    428\u001b[0m     \u001b[0;32mif\u001b[0m \u001b[0mshould_close\u001b[0m\u001b[0;34m:\u001b[0m\u001b[0;34m\u001b[0m\u001b[0;34m\u001b[0m\u001b[0m\n\u001b[1;32m    429\u001b[0m         \u001b[0;32mtry\u001b[0m\u001b[0;34m:\u001b[0m\u001b[0;34m\u001b[0m\u001b[0;34m\u001b[0m\u001b[0m\n",
      "\u001b[0;32m~/anaconda3/lib/python3.7/site-packages/pandas/io/json/json.py\u001b[0m in \u001b[0;36mread\u001b[0;34m(self)\u001b[0m\n\u001b[1;32m    535\u001b[0m             )\n\u001b[1;32m    536\u001b[0m         \u001b[0;32melse\u001b[0m\u001b[0;34m:\u001b[0m\u001b[0;34m\u001b[0m\u001b[0;34m\u001b[0m\u001b[0m\n\u001b[0;32m--> 537\u001b[0;31m             \u001b[0mobj\u001b[0m \u001b[0;34m=\u001b[0m \u001b[0mself\u001b[0m\u001b[0;34m.\u001b[0m\u001b[0m_get_object_parser\u001b[0m\u001b[0;34m(\u001b[0m\u001b[0mself\u001b[0m\u001b[0;34m.\u001b[0m\u001b[0mdata\u001b[0m\u001b[0;34m)\u001b[0m\u001b[0;34m\u001b[0m\u001b[0;34m\u001b[0m\u001b[0m\n\u001b[0m\u001b[1;32m    538\u001b[0m         \u001b[0mself\u001b[0m\u001b[0;34m.\u001b[0m\u001b[0mclose\u001b[0m\u001b[0;34m(\u001b[0m\u001b[0;34m)\u001b[0m\u001b[0;34m\u001b[0m\u001b[0;34m\u001b[0m\u001b[0m\n\u001b[1;32m    539\u001b[0m         \u001b[0;32mreturn\u001b[0m \u001b[0mobj\u001b[0m\u001b[0;34m\u001b[0m\u001b[0;34m\u001b[0m\u001b[0m\n",
      "\u001b[0;32m~/anaconda3/lib/python3.7/site-packages/pandas/io/json/json.py\u001b[0m in \u001b[0;36m_get_object_parser\u001b[0;34m(self, json)\u001b[0m\n\u001b[1;32m    554\u001b[0m         \u001b[0mobj\u001b[0m \u001b[0;34m=\u001b[0m \u001b[0;32mNone\u001b[0m\u001b[0;34m\u001b[0m\u001b[0;34m\u001b[0m\u001b[0m\n\u001b[1;32m    555\u001b[0m         \u001b[0;32mif\u001b[0m \u001b[0mtyp\u001b[0m \u001b[0;34m==\u001b[0m \u001b[0;34m'frame'\u001b[0m\u001b[0;34m:\u001b[0m\u001b[0;34m\u001b[0m\u001b[0;34m\u001b[0m\u001b[0m\n\u001b[0;32m--> 556\u001b[0;31m             \u001b[0mobj\u001b[0m \u001b[0;34m=\u001b[0m \u001b[0mFrameParser\u001b[0m\u001b[0;34m(\u001b[0m\u001b[0mjson\u001b[0m\u001b[0;34m,\u001b[0m \u001b[0;34m**\u001b[0m\u001b[0mkwargs\u001b[0m\u001b[0;34m)\u001b[0m\u001b[0;34m.\u001b[0m\u001b[0mparse\u001b[0m\u001b[0;34m(\u001b[0m\u001b[0;34m)\u001b[0m\u001b[0;34m\u001b[0m\u001b[0;34m\u001b[0m\u001b[0m\n\u001b[0m\u001b[1;32m    557\u001b[0m \u001b[0;34m\u001b[0m\u001b[0m\n\u001b[1;32m    558\u001b[0m         \u001b[0;32mif\u001b[0m \u001b[0mtyp\u001b[0m \u001b[0;34m==\u001b[0m \u001b[0;34m'series'\u001b[0m \u001b[0;32mor\u001b[0m \u001b[0mobj\u001b[0m \u001b[0;32mis\u001b[0m \u001b[0;32mNone\u001b[0m\u001b[0;34m:\u001b[0m\u001b[0;34m\u001b[0m\u001b[0;34m\u001b[0m\u001b[0m\n",
      "\u001b[0;32m~/anaconda3/lib/python3.7/site-packages/pandas/io/json/json.py\u001b[0m in \u001b[0;36mparse\u001b[0;34m(self)\u001b[0m\n\u001b[1;32m    650\u001b[0m \u001b[0;34m\u001b[0m\u001b[0m\n\u001b[1;32m    651\u001b[0m         \u001b[0;32melse\u001b[0m\u001b[0;34m:\u001b[0m\u001b[0;34m\u001b[0m\u001b[0;34m\u001b[0m\u001b[0m\n\u001b[0;32m--> 652\u001b[0;31m             \u001b[0mself\u001b[0m\u001b[0;34m.\u001b[0m\u001b[0m_parse_no_numpy\u001b[0m\u001b[0;34m(\u001b[0m\u001b[0;34m)\u001b[0m\u001b[0;34m\u001b[0m\u001b[0;34m\u001b[0m\u001b[0m\n\u001b[0m\u001b[1;32m    653\u001b[0m \u001b[0;34m\u001b[0m\u001b[0m\n\u001b[1;32m    654\u001b[0m         \u001b[0;32mif\u001b[0m \u001b[0mself\u001b[0m\u001b[0;34m.\u001b[0m\u001b[0mobj\u001b[0m \u001b[0;32mis\u001b[0m \u001b[0;32mNone\u001b[0m\u001b[0;34m:\u001b[0m\u001b[0;34m\u001b[0m\u001b[0;34m\u001b[0m\u001b[0m\n",
      "\u001b[0;32m~/anaconda3/lib/python3.7/site-packages/pandas/io/json/json.py\u001b[0m in \u001b[0;36m_parse_no_numpy\u001b[0;34m(self)\u001b[0m\n\u001b[1;32m    869\u001b[0m         \u001b[0;32mif\u001b[0m \u001b[0morient\u001b[0m \u001b[0;34m==\u001b[0m \u001b[0;34m\"columns\"\u001b[0m\u001b[0;34m:\u001b[0m\u001b[0;34m\u001b[0m\u001b[0;34m\u001b[0m\u001b[0m\n\u001b[1;32m    870\u001b[0m             self.obj = DataFrame(\n\u001b[0;32m--> 871\u001b[0;31m                 loads(json, precise_float=self.precise_float), dtype=None)\n\u001b[0m\u001b[1;32m    872\u001b[0m         \u001b[0;32melif\u001b[0m \u001b[0morient\u001b[0m \u001b[0;34m==\u001b[0m \u001b[0;34m\"split\"\u001b[0m\u001b[0;34m:\u001b[0m\u001b[0;34m\u001b[0m\u001b[0;34m\u001b[0m\u001b[0m\n\u001b[1;32m    873\u001b[0m             decoded = {str(k): v for k, v in compat.iteritems(\n",
      "\u001b[0;31mValueError\u001b[0m: Expected object or value"
     ]
    }
   ],
   "source": [
    "data = pd.read_json(r'user_data.json')"
   ]
  },
  {
   "cell_type": "code",
   "execution_count": null,
   "metadata": {},
   "outputs": [],
   "source": [
    "filteredata=data.to_numpy()[data.to_numpy()[:,1] == 'American Express']"
   ]
  },
  {
   "cell_type": "code",
   "execution_count": 20,
   "metadata": {},
   "outputs": [
    {
     "ename": "NameError",
     "evalue": "name 'filteredata' is not defined",
     "output_type": "error",
     "traceback": [
      "\u001b[0;31m---------------------------------------------------------------------------\u001b[0m",
      "\u001b[0;31mNameError\u001b[0m                                 Traceback (most recent call last)",
      "\u001b[0;32m<ipython-input-20-1ab0ac8461de>\u001b[0m in \u001b[0;36m<module>\u001b[0;34m\u001b[0m\n\u001b[0;32m----> 1\u001b[0;31m \u001b[0mdata\u001b[0m \u001b[0;34m=\u001b[0m \u001b[0mpd\u001b[0m\u001b[0;34m.\u001b[0m\u001b[0mDataFrame\u001b[0m\u001b[0;34m(\u001b[0m\u001b[0mdata\u001b[0m \u001b[0;34m=\u001b[0m \u001b[0mfilteredata\u001b[0m\u001b[0;34m,\u001b[0m\u001b[0mcolumns\u001b[0m \u001b[0;34m=\u001b[0m \u001b[0mdata\u001b[0m\u001b[0;34m.\u001b[0m\u001b[0mcolumns\u001b[0m\u001b[0;34m.\u001b[0m\u001b[0mvalues\u001b[0m\u001b[0;34m)\u001b[0m\u001b[0;34m\u001b[0m\u001b[0;34m\u001b[0m\u001b[0m\n\u001b[0m\u001b[1;32m      2\u001b[0m \u001b[0mdata\u001b[0m\u001b[0;34m\u001b[0m\u001b[0;34m\u001b[0m\u001b[0m\n",
      "\u001b[0;31mNameError\u001b[0m: name 'filteredata' is not defined"
     ]
    }
   ],
   "source": [
    "data = pd.DataFrame(data = filteredata,columns = data.columns.values)\n",
    "data"
   ]
  },
  {
   "cell_type": "code",
   "execution_count": null,
   "metadata": {},
   "outputs": [],
   "source": [
    "data.to_csv('user_data.csv',index = False)\n",
    "!cat user_data.csv\n",
    "!rm user_data.csv"
   ]
  },
  {
   "cell_type": "markdown",
   "metadata": {},
   "source": [
    "6\\. Load the file from this url: [https://www.dropbox.com/s/7u3lm737ogbqsg8/mushrooms_categorized.csv?dl=1](https://www.dropbox.com/s/7u3lm737ogbqsg8/mushrooms_categorized.csv?dl=1) with Pandas. \n",
    "+ Explore the data (see the info of the data)\n",
    "+ Draw the istogram of the 'class' field. Decribe wath yuou see\n"
   ]
  },
  {
   "cell_type": "code",
   "execution_count": null,
   "metadata": {},
   "outputs": [],
   "source": [
    "df = pd.read_csv(\"https://www.dropbox.com/s/7u3lm737ogbqsg8/mushrooms_categorized.csv?dl=1\")"
   ]
  },
  {
   "cell_type": "code",
   "execution_count": null,
   "metadata": {},
   "outputs": [],
   "source": [
    "df"
   ]
  },
  {
   "cell_type": "code",
   "execution_count": null,
   "metadata": {},
   "outputs": [],
   "source": [
    "df['class'].hist()"
   ]
  },
  {
   "cell_type": "markdown",
   "metadata": {},
   "source": [
    "7\\. Load the remote file [https://www.dropbox.com/s/vkl89yce7xjdq4n/regression_generated.csv?dl=1](https://www.dropbox.com/s/vkl89yce7xjdq4n/regression_generated.csv?dl=1) with Pandas and plot a scatter plot all possible combination of the following fields:\n",
    "    \n",
    "  + features_1\n",
    "  + features_2\n",
    "  + features_3"
   ]
  },
  {
   "cell_type": "code",
   "execution_count": null,
   "metadata": {},
   "outputs": [],
   "source": [
    "df = pd.read_csv(\"https://www.dropbox.com/s/vkl89yce7xjdq4n/regression_generated.csv?dl=1\")"
   ]
  },
  {
   "cell_type": "code",
   "execution_count": null,
   "metadata": {},
   "outputs": [],
   "source": [
    "df.plot.scatter('features_1','features_2')\n",
    "df.plot.scatter('features_1','features_3')\n",
    "df.plot.scatter('features_2','features_3')"
   ]
  },
  {
   "cell_type": "markdown",
   "metadata": {},
   "source": [
    "8\\. Load the same file of point 6, and convert the file to json with Pandas."
   ]
  },
  {
   "cell_type": "code",
   "execution_count": null,
   "metadata": {},
   "outputs": [],
   "source": [
    "df = pd.read_csv(\"https://www.dropbox.com/s/7u3lm737ogbqsg8/mushrooms_categorized.csv?dl=1\")\n",
    "df.to_json(r'jasonfile.json')"
   ]
  },
  {
   "cell_type": "code",
   "execution_count": null,
   "metadata": {},
   "outputs": [],
   "source": [
    "!cat jasonfile.json\n",
    "!rm jasonfile.json"
   ]
  }
 ],
 "metadata": {
  "kernelspec": {
   "display_name": "Python 3",
   "language": "python",
   "name": "python3"
  },
  "language_info": {
   "codemirror_mode": {
    "name": "ipython",
    "version": 3
   },
   "file_extension": ".py",
   "mimetype": "text/x-python",
   "name": "python",
   "nbconvert_exporter": "python",
   "pygments_lexer": "ipython3",
   "version": "3.7.3"
  }
 },
 "nbformat": 4,
 "nbformat_minor": 2
}
